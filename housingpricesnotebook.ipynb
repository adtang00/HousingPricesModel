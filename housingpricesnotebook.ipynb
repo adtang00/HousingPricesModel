{
 "cells": [
  {
   "cell_type": "code",
   "execution_count": 1,
   "id": "9190b87f",
   "metadata": {
    "_cell_guid": "b1076dfc-b9ad-4769-8c92-a6c4dae69d19",
    "_uuid": "8f2839f25d086af736a60e9eeb907d3b93b6e0e5",
    "execution": {
     "iopub.execute_input": "2024-10-20T21:35:59.212706Z",
     "iopub.status.busy": "2024-10-20T21:35:59.212307Z",
     "iopub.status.idle": "2024-10-20T21:36:01.165210Z",
     "shell.execute_reply": "2024-10-20T21:36:01.163996Z"
    },
    "papermill": {
     "duration": 1.962749,
     "end_time": "2024-10-20T21:36:01.167301",
     "exception": false,
     "start_time": "2024-10-20T21:35:59.204552",
     "status": "completed"
    },
    "tags": []
   },
   "outputs": [
    {
     "name": "stdout",
     "output_type": "stream",
     "text": [
      "/kaggle/input/house-price-prediction-dataset/House Price Prediction Dataset.csv\n"
     ]
    }
   ],
   "source": [
    "# This Python 3 environment comes with many helpful analytics libraries installed\n",
    "# It is defined by the kaggle/python Docker image: https://github.com/kaggle/docker-python\n",
    "# For example, here's several helpful packages to load\n",
    "\n",
    "import numpy as np # linear algebra\n",
    "import pandas as pd # data processing, CSV file I/O (e.g. pd.read_csv)\n",
    "import sklearn\n",
    "\n",
    "# Input data files are available in the read-only \"../input/\" directory\n",
    "# For example, running this (by clicking run or pressing Shift+Enter) will list all files under the input directory\n",
    "\n",
    "import os\n",
    "for dirname, _, filenames in os.walk('/kaggle/input'):\n",
    "    for filename in filenames:\n",
    "        print(os.path.join(dirname, filename))\n",
    "\n",
    "# You can write up to 20GB to the current directory (/kaggle/working/) that gets preserved as output when you create a version using \"Save & Run All\" \n",
    "# You can also write temporary files to /kaggle/temp/, but they won't be saved outside of the current session"
   ]
  },
  {
   "cell_type": "code",
   "execution_count": 2,
   "id": "936e5bff",
   "metadata": {
    "execution": {
     "iopub.execute_input": "2024-10-20T21:36:01.178272Z",
     "iopub.status.busy": "2024-10-20T21:36:01.177386Z",
     "iopub.status.idle": "2024-10-20T21:36:01.214001Z",
     "shell.execute_reply": "2024-10-20T21:36:01.213013Z"
    },
    "papermill": {
     "duration": 0.04493,
     "end_time": "2024-10-20T21:36:01.216766",
     "exception": false,
     "start_time": "2024-10-20T21:36:01.171836",
     "status": "completed"
    },
    "tags": []
   },
   "outputs": [
    {
     "data": {
      "text/html": [
       "<div>\n",
       "<style scoped>\n",
       "    .dataframe tbody tr th:only-of-type {\n",
       "        vertical-align: middle;\n",
       "    }\n",
       "\n",
       "    .dataframe tbody tr th {\n",
       "        vertical-align: top;\n",
       "    }\n",
       "\n",
       "    .dataframe thead th {\n",
       "        text-align: right;\n",
       "    }\n",
       "</style>\n",
       "<table border=\"1\" class=\"dataframe\">\n",
       "  <thead>\n",
       "    <tr style=\"text-align: right;\">\n",
       "      <th></th>\n",
       "      <th>Id</th>\n",
       "      <th>Area</th>\n",
       "      <th>Bedrooms</th>\n",
       "      <th>Bathrooms</th>\n",
       "      <th>Floors</th>\n",
       "      <th>YearBuilt</th>\n",
       "      <th>Location</th>\n",
       "      <th>Condition</th>\n",
       "      <th>Garage</th>\n",
       "      <th>Price</th>\n",
       "    </tr>\n",
       "  </thead>\n",
       "  <tbody>\n",
       "    <tr>\n",
       "      <th>0</th>\n",
       "      <td>1</td>\n",
       "      <td>1360</td>\n",
       "      <td>5</td>\n",
       "      <td>4</td>\n",
       "      <td>3</td>\n",
       "      <td>1970</td>\n",
       "      <td>Downtown</td>\n",
       "      <td>Excellent</td>\n",
       "      <td>No</td>\n",
       "      <td>149919</td>\n",
       "    </tr>\n",
       "    <tr>\n",
       "      <th>1</th>\n",
       "      <td>2</td>\n",
       "      <td>4272</td>\n",
       "      <td>5</td>\n",
       "      <td>4</td>\n",
       "      <td>3</td>\n",
       "      <td>1958</td>\n",
       "      <td>Downtown</td>\n",
       "      <td>Excellent</td>\n",
       "      <td>No</td>\n",
       "      <td>424998</td>\n",
       "    </tr>\n",
       "    <tr>\n",
       "      <th>2</th>\n",
       "      <td>3</td>\n",
       "      <td>3592</td>\n",
       "      <td>2</td>\n",
       "      <td>2</td>\n",
       "      <td>3</td>\n",
       "      <td>1938</td>\n",
       "      <td>Downtown</td>\n",
       "      <td>Good</td>\n",
       "      <td>No</td>\n",
       "      <td>266746</td>\n",
       "    </tr>\n",
       "    <tr>\n",
       "      <th>3</th>\n",
       "      <td>4</td>\n",
       "      <td>966</td>\n",
       "      <td>4</td>\n",
       "      <td>2</td>\n",
       "      <td>2</td>\n",
       "      <td>1902</td>\n",
       "      <td>Suburban</td>\n",
       "      <td>Fair</td>\n",
       "      <td>Yes</td>\n",
       "      <td>244020</td>\n",
       "    </tr>\n",
       "    <tr>\n",
       "      <th>4</th>\n",
       "      <td>5</td>\n",
       "      <td>4926</td>\n",
       "      <td>1</td>\n",
       "      <td>4</td>\n",
       "      <td>2</td>\n",
       "      <td>1975</td>\n",
       "      <td>Downtown</td>\n",
       "      <td>Fair</td>\n",
       "      <td>Yes</td>\n",
       "      <td>636056</td>\n",
       "    </tr>\n",
       "  </tbody>\n",
       "</table>\n",
       "</div>"
      ],
      "text/plain": [
       "   Id  Area  Bedrooms  Bathrooms  Floors  YearBuilt  Location  Condition  \\\n",
       "0   1  1360         5          4       3       1970  Downtown  Excellent   \n",
       "1   2  4272         5          4       3       1958  Downtown  Excellent   \n",
       "2   3  3592         2          2       3       1938  Downtown       Good   \n",
       "3   4   966         4          2       2       1902  Suburban       Fair   \n",
       "4   5  4926         1          4       2       1975  Downtown       Fair   \n",
       "\n",
       "  Garage   Price  \n",
       "0     No  149919  \n",
       "1     No  424998  \n",
       "2     No  266746  \n",
       "3    Yes  244020  \n",
       "4    Yes  636056  "
      ]
     },
     "execution_count": 2,
     "metadata": {},
     "output_type": "execute_result"
    }
   ],
   "source": [
    "df = pd.read_csv(\"/kaggle/input/house-price-prediction-dataset/House Price Prediction Dataset.csv\")\n",
    "df.head()"
   ]
  },
  {
   "cell_type": "code",
   "execution_count": 3,
   "id": "dc377803",
   "metadata": {
    "execution": {
     "iopub.execute_input": "2024-10-20T21:36:01.228386Z",
     "iopub.status.busy": "2024-10-20T21:36:01.227902Z",
     "iopub.status.idle": "2024-10-20T21:36:01.252348Z",
     "shell.execute_reply": "2024-10-20T21:36:01.251177Z"
    },
    "papermill": {
     "duration": 0.03265,
     "end_time": "2024-10-20T21:36:01.254763",
     "exception": false,
     "start_time": "2024-10-20T21:36:01.222113",
     "status": "completed"
    },
    "tags": []
   },
   "outputs": [
    {
     "name": "stdout",
     "output_type": "stream",
     "text": [
      "<class 'pandas.core.frame.DataFrame'>\n",
      "RangeIndex: 2000 entries, 0 to 1999\n",
      "Data columns (total 10 columns):\n",
      " #   Column     Non-Null Count  Dtype \n",
      "---  ------     --------------  ----- \n",
      " 0   Id         2000 non-null   int64 \n",
      " 1   Area       2000 non-null   int64 \n",
      " 2   Bedrooms   2000 non-null   int64 \n",
      " 3   Bathrooms  2000 non-null   int64 \n",
      " 4   Floors     2000 non-null   int64 \n",
      " 5   YearBuilt  2000 non-null   int64 \n",
      " 6   Location   2000 non-null   object\n",
      " 7   Condition  2000 non-null   object\n",
      " 8   Garage     2000 non-null   object\n",
      " 9   Price      2000 non-null   int64 \n",
      "dtypes: int64(7), object(3)\n",
      "memory usage: 156.4+ KB\n"
     ]
    }
   ],
   "source": [
    "#check for unusable data\n",
    "df.info()"
   ]
  },
  {
   "cell_type": "code",
   "execution_count": 4,
   "id": "37eb1b85",
   "metadata": {
    "execution": {
     "iopub.execute_input": "2024-10-20T21:36:01.265870Z",
     "iopub.status.busy": "2024-10-20T21:36:01.265486Z",
     "iopub.status.idle": "2024-10-20T21:36:01.271680Z",
     "shell.execute_reply": "2024-10-20T21:36:01.270661Z"
    },
    "papermill": {
     "duration": 0.014501,
     "end_time": "2024-10-20T21:36:01.274012",
     "exception": false,
     "start_time": "2024-10-20T21:36:01.259511",
     "status": "completed"
    },
    "tags": []
   },
   "outputs": [
    {
     "name": "stdout",
     "output_type": "stream",
     "text": [
      "['Downtown' 'Suburban' 'Urban' 'Rural']\n",
      "['Excellent' 'Good' 'Fair' 'Poor']\n"
     ]
    }
   ],
   "source": [
    "#See the unique values\n",
    "print(df['Location'].unique())\n",
    "print(df['Condition'].unique())"
   ]
  },
  {
   "cell_type": "code",
   "execution_count": 5,
   "id": "25dbf10b",
   "metadata": {
    "execution": {
     "iopub.execute_input": "2024-10-20T21:36:01.285519Z",
     "iopub.status.busy": "2024-10-20T21:36:01.284827Z",
     "iopub.status.idle": "2024-10-20T21:36:01.294532Z",
     "shell.execute_reply": "2024-10-20T21:36:01.293521Z"
    },
    "papermill": {
     "duration": 0.018051,
     "end_time": "2024-10-20T21:36:01.296826",
     "exception": false,
     "start_time": "2024-10-20T21:36:01.278775",
     "status": "completed"
    },
    "tags": []
   },
   "outputs": [],
   "source": [
    "#map the values into a numerical representation viable for the model\n",
    "location_map = {\n",
    "    \"Downtown\": 1,\n",
    "    \"Suburban\": 2,\n",
    "    \"Urban\": 3,\n",
    "    \"Rural\": 4\n",
    "}\n",
    "condition_map = {\n",
    "    \"Poor\": 0,\n",
    "    \"Fair\": 1,\n",
    "    \"Good\": 2,\n",
    "    \"Excellent\": 3\n",
    "}\n",
    "garage_map = {\n",
    "    \"Yes\": 1,\n",
    "    \"No\": 0\n",
    "}\n",
    "df['Location'] = df['Location'].map(location_map)\n",
    "df['Condition'] = df['Condition'].map(condition_map)\n",
    "df['Garage'] = df['Garage'].map(garage_map)"
   ]
  },
  {
   "cell_type": "code",
   "execution_count": 6,
   "id": "4f539e98",
   "metadata": {
    "execution": {
     "iopub.execute_input": "2024-10-20T21:36:01.309005Z",
     "iopub.status.busy": "2024-10-20T21:36:01.307893Z",
     "iopub.status.idle": "2024-10-20T21:36:01.347148Z",
     "shell.execute_reply": "2024-10-20T21:36:01.346004Z"
    },
    "papermill": {
     "duration": 0.047653,
     "end_time": "2024-10-20T21:36:01.349338",
     "exception": false,
     "start_time": "2024-10-20T21:36:01.301685",
     "status": "completed"
    },
    "tags": []
   },
   "outputs": [
    {
     "data": {
      "text/html": [
       "<div>\n",
       "<style scoped>\n",
       "    .dataframe tbody tr th:only-of-type {\n",
       "        vertical-align: middle;\n",
       "    }\n",
       "\n",
       "    .dataframe tbody tr th {\n",
       "        vertical-align: top;\n",
       "    }\n",
       "\n",
       "    .dataframe thead th {\n",
       "        text-align: right;\n",
       "    }\n",
       "</style>\n",
       "<table border=\"1\" class=\"dataframe\">\n",
       "  <thead>\n",
       "    <tr style=\"text-align: right;\">\n",
       "      <th></th>\n",
       "      <th>Id</th>\n",
       "      <th>Area</th>\n",
       "      <th>Bedrooms</th>\n",
       "      <th>Bathrooms</th>\n",
       "      <th>Floors</th>\n",
       "      <th>YearBuilt</th>\n",
       "      <th>Location</th>\n",
       "      <th>Condition</th>\n",
       "      <th>Garage</th>\n",
       "      <th>Price</th>\n",
       "    </tr>\n",
       "  </thead>\n",
       "  <tbody>\n",
       "    <tr>\n",
       "      <th>count</th>\n",
       "      <td>2000.000000</td>\n",
       "      <td>2000.000000</td>\n",
       "      <td>2000.000000</td>\n",
       "      <td>2000.00000</td>\n",
       "      <td>2000.000000</td>\n",
       "      <td>2000.000000</td>\n",
       "      <td>2000.000000</td>\n",
       "      <td>2000.000000</td>\n",
       "      <td>2000.000000</td>\n",
       "      <td>2000.000000</td>\n",
       "    </tr>\n",
       "    <tr>\n",
       "      <th>mean</th>\n",
       "      <td>1000.500000</td>\n",
       "      <td>2786.209500</td>\n",
       "      <td>3.003500</td>\n",
       "      <td>2.55250</td>\n",
       "      <td>1.993500</td>\n",
       "      <td>1961.446000</td>\n",
       "      <td>2.437500</td>\n",
       "      <td>1.488000</td>\n",
       "      <td>0.481000</td>\n",
       "      <td>537676.855000</td>\n",
       "    </tr>\n",
       "    <tr>\n",
       "      <th>std</th>\n",
       "      <td>577.494589</td>\n",
       "      <td>1295.146799</td>\n",
       "      <td>1.424606</td>\n",
       "      <td>1.10899</td>\n",
       "      <td>0.809188</td>\n",
       "      <td>35.926695</td>\n",
       "      <td>1.130811</td>\n",
       "      <td>1.126273</td>\n",
       "      <td>0.499764</td>\n",
       "      <td>276428.845719</td>\n",
       "    </tr>\n",
       "    <tr>\n",
       "      <th>min</th>\n",
       "      <td>1.000000</td>\n",
       "      <td>501.000000</td>\n",
       "      <td>1.000000</td>\n",
       "      <td>1.00000</td>\n",
       "      <td>1.000000</td>\n",
       "      <td>1900.000000</td>\n",
       "      <td>1.000000</td>\n",
       "      <td>0.000000</td>\n",
       "      <td>0.000000</td>\n",
       "      <td>50005.000000</td>\n",
       "    </tr>\n",
       "    <tr>\n",
       "      <th>25%</th>\n",
       "      <td>500.750000</td>\n",
       "      <td>1653.000000</td>\n",
       "      <td>2.000000</td>\n",
       "      <td>2.00000</td>\n",
       "      <td>1.000000</td>\n",
       "      <td>1930.000000</td>\n",
       "      <td>1.000000</td>\n",
       "      <td>0.000000</td>\n",
       "      <td>0.000000</td>\n",
       "      <td>300098.000000</td>\n",
       "    </tr>\n",
       "    <tr>\n",
       "      <th>50%</th>\n",
       "      <td>1000.500000</td>\n",
       "      <td>2833.000000</td>\n",
       "      <td>3.000000</td>\n",
       "      <td>3.00000</td>\n",
       "      <td>2.000000</td>\n",
       "      <td>1961.000000</td>\n",
       "      <td>2.000000</td>\n",
       "      <td>1.000000</td>\n",
       "      <td>0.000000</td>\n",
       "      <td>539254.000000</td>\n",
       "    </tr>\n",
       "    <tr>\n",
       "      <th>75%</th>\n",
       "      <td>1500.250000</td>\n",
       "      <td>3887.500000</td>\n",
       "      <td>4.000000</td>\n",
       "      <td>4.00000</td>\n",
       "      <td>3.000000</td>\n",
       "      <td>1993.000000</td>\n",
       "      <td>3.000000</td>\n",
       "      <td>3.000000</td>\n",
       "      <td>1.000000</td>\n",
       "      <td>780086.000000</td>\n",
       "    </tr>\n",
       "    <tr>\n",
       "      <th>max</th>\n",
       "      <td>2000.000000</td>\n",
       "      <td>4999.000000</td>\n",
       "      <td>5.000000</td>\n",
       "      <td>4.00000</td>\n",
       "      <td>3.000000</td>\n",
       "      <td>2023.000000</td>\n",
       "      <td>4.000000</td>\n",
       "      <td>3.000000</td>\n",
       "      <td>1.000000</td>\n",
       "      <td>999656.000000</td>\n",
       "    </tr>\n",
       "  </tbody>\n",
       "</table>\n",
       "</div>"
      ],
      "text/plain": [
       "                Id         Area     Bedrooms   Bathrooms       Floors  \\\n",
       "count  2000.000000  2000.000000  2000.000000  2000.00000  2000.000000   \n",
       "mean   1000.500000  2786.209500     3.003500     2.55250     1.993500   \n",
       "std     577.494589  1295.146799     1.424606     1.10899     0.809188   \n",
       "min       1.000000   501.000000     1.000000     1.00000     1.000000   \n",
       "25%     500.750000  1653.000000     2.000000     2.00000     1.000000   \n",
       "50%    1000.500000  2833.000000     3.000000     3.00000     2.000000   \n",
       "75%    1500.250000  3887.500000     4.000000     4.00000     3.000000   \n",
       "max    2000.000000  4999.000000     5.000000     4.00000     3.000000   \n",
       "\n",
       "         YearBuilt     Location    Condition       Garage          Price  \n",
       "count  2000.000000  2000.000000  2000.000000  2000.000000    2000.000000  \n",
       "mean   1961.446000     2.437500     1.488000     0.481000  537676.855000  \n",
       "std      35.926695     1.130811     1.126273     0.499764  276428.845719  \n",
       "min    1900.000000     1.000000     0.000000     0.000000   50005.000000  \n",
       "25%    1930.000000     1.000000     0.000000     0.000000  300098.000000  \n",
       "50%    1961.000000     2.000000     1.000000     0.000000  539254.000000  \n",
       "75%    1993.000000     3.000000     3.000000     1.000000  780086.000000  \n",
       "max    2023.000000     4.000000     3.000000     1.000000  999656.000000  "
      ]
     },
     "execution_count": 6,
     "metadata": {},
     "output_type": "execute_result"
    }
   ],
   "source": [
    "df.describe()"
   ]
  },
  {
   "cell_type": "code",
   "execution_count": 7,
   "id": "1b0b0196",
   "metadata": {
    "execution": {
     "iopub.execute_input": "2024-10-20T21:36:01.360912Z",
     "iopub.status.busy": "2024-10-20T21:36:01.360501Z",
     "iopub.status.idle": "2024-10-20T21:36:02.079146Z",
     "shell.execute_reply": "2024-10-20T21:36:02.078011Z"
    },
    "papermill": {
     "duration": 0.72697,
     "end_time": "2024-10-20T21:36:02.081404",
     "exception": false,
     "start_time": "2024-10-20T21:36:01.354434",
     "status": "completed"
    },
    "tags": []
   },
   "outputs": [
    {
     "data": {
      "text/plain": [
       "<Axes: xlabel='Bedrooms', ylabel='count'>"
      ]
     },
     "execution_count": 7,
     "metadata": {},
     "output_type": "execute_result"
    },
    {
     "data": {
      "image/png": "[encoded data removed]",
      "text/plain": [
       "<Figure size 640x480 with 1 Axes>"
      ]
     },
     "metadata": {},
     "output_type": "display_data"
    }
   ],
   "source": [
    "#Visualize the distribution\n",
    "import seaborn as sns\n",
    "sns.countplot(x=df['Bathrooms'])\n",
    "sns.countplot(x=df['Bedrooms'])"
   ]
  },
  {
   "cell_type": "code",
   "execution_count": 8,
   "id": "ab79dbaa",
   "metadata": {
    "execution": {
     "iopub.execute_input": "2024-10-20T21:36:02.094288Z",
     "iopub.status.busy": "2024-10-20T21:36:02.093493Z",
     "iopub.status.idle": "2024-10-20T21:36:02.478241Z",
     "shell.execute_reply": "2024-10-20T21:36:02.477189Z"
    },
    "papermill": {
     "duration": 0.393528,
     "end_time": "2024-10-20T21:36:02.480628",
     "exception": false,
     "start_time": "2024-10-20T21:36:02.087100",
     "status": "completed"
    },
    "tags": []
   },
   "outputs": [
    {
     "name": "stderr",
     "output_type": "stream",
     "text": [
      "/opt/conda/lib/python3.10/site-packages/seaborn/_oldcore.py:1119: FutureWarning: use_inf_as_na option is deprecated and will be removed in a future version. Convert inf values to NaN before operating instead.\n",
      "  with pd.option_context('mode.use_inf_as_na', True):\n"
     ]
    },
    {
     "data": {
      "text/plain": [
       "<seaborn.axisgrid.FacetGrid at 0x7d00e0c79540>"
      ]
     },
     "execution_count": 8,
     "metadata": {},
     "output_type": "execute_result"
    },
    {
     "data": {
      "image/png": "[encoded data removed]",
      "text/plain": [
       "<Figure size 500x500 with 1 Axes>"
      ]
     },
     "metadata": {},
     "output_type": "display_data"
    }
   ],
   "source": [
    "#Visualize distributions\n",
    "sns.displot(df['YearBuilt'], kind = 'hist')"
   ]
  },
  {
   "cell_type": "code",
   "execution_count": 9,
   "id": "44ac41ac",
   "metadata": {
    "execution": {
     "iopub.execute_input": "2024-10-20T21:36:02.495320Z",
     "iopub.status.busy": "2024-10-20T21:36:02.494555Z",
     "iopub.status.idle": "2024-10-20T21:36:02.625786Z",
     "shell.execute_reply": "2024-10-20T21:36:02.624465Z"
    },
    "papermill": {
     "duration": 0.140775,
     "end_time": "2024-10-20T21:36:02.628186",
     "exception": false,
     "start_time": "2024-10-20T21:36:02.487411",
     "status": "completed"
    },
    "tags": []
   },
   "outputs": [
    {
     "name": "stdout",
     "output_type": "stream",
     "text": [
      "      Area  Bedrooms  Bathrooms  Floors  YearBuilt  Location  Condition  \\\n",
      "739    724         3          2       2       1926         3          1   \n",
      "1431  1134         2          4       3       1921         1          0   \n",
      "512   2605         5          4       2       2015         1          3   \n",
      "174   2294         4          4       2       1991         2          1   \n",
      "476   1865         2          4       2       1930         1          2   \n",
      "\n",
      "      Garage  \n",
      "739        0  \n",
      "1431       0  \n",
      "512        0  \n",
      "174        0  \n",
      "476        1  \n",
      "739     111086\n",
      "1431    591465\n",
      "512     752858\n",
      "174     745169\n",
      "476     255719\n",
      "Name: Price, dtype: int64\n"
     ]
    }
   ],
   "source": [
    "#create training, testing sets\n",
    "from sklearn.model_selection import train_test_split\n",
    "df = df.drop(\"Id\", axis = 1)\n",
    "X = df.iloc[:, 0:8]\n",
    "y = df.iloc[:, 8]\n",
    "X_train, X_test, y_train, y_test = train_test_split(X, y, test_size=0.2, random_state=11)\n",
    "print(X_train.head())\n",
    "print(y_train.head())"
   ]
  },
  {
   "cell_type": "code",
   "execution_count": 10,
   "id": "4cc08326",
   "metadata": {
    "execution": {
     "iopub.execute_input": "2024-10-20T21:36:02.641910Z",
     "iopub.status.busy": "2024-10-20T21:36:02.641520Z",
     "iopub.status.idle": "2024-10-20T21:36:02.863156Z",
     "shell.execute_reply": "2024-10-20T21:36:02.862232Z"
    },
    "papermill": {
     "duration": 0.231571,
     "end_time": "2024-10-20T21:36:02.865765",
     "exception": false,
     "start_time": "2024-10-20T21:36:02.634194",
     "status": "completed"
    },
    "tags": []
   },
   "outputs": [],
   "source": [
    "from sklearn.ensemble import RandomForestRegressor\n",
    "rf = RandomForestRegressor()"
   ]
  },
  {
   "cell_type": "code",
   "execution_count": 11,
   "id": "0c3b1bae",
   "metadata": {
    "execution": {
     "iopub.execute_input": "2024-10-20T21:36:02.880128Z",
     "iopub.status.busy": "2024-10-20T21:36:02.879404Z",
     "iopub.status.idle": "2024-10-20T21:36:02.884690Z",
     "shell.execute_reply": "2024-10-20T21:36:02.883704Z"
    },
    "papermill": {
     "duration": 0.014855,
     "end_time": "2024-10-20T21:36:02.886901",
     "exception": false,
     "start_time": "2024-10-20T21:36:02.872046",
     "status": "completed"
    },
    "tags": []
   },
   "outputs": [],
   "source": [
    "param_grid = [{\n",
    "    'n_estimators': [500, 1000],\n",
    "    'min_samples_split': [5, 10, 15],\n",
    "    'min_samples_leaf': [1, 2, 4],\n",
    "    'max_depth': [10, 20, 30]\n",
    "}]"
   ]
  },
  {
   "cell_type": "code",
   "execution_count": 12,
   "id": "f1cea6d8",
   "metadata": {
    "execution": {
     "iopub.execute_input": "2024-10-20T21:36:02.901125Z",
     "iopub.status.busy": "2024-10-20T21:36:02.900742Z",
     "iopub.status.idle": "2024-10-20T21:36:02.905424Z",
     "shell.execute_reply": "2024-10-20T21:36:02.904481Z"
    },
    "papermill": {
     "duration": 0.01408,
     "end_time": "2024-10-20T21:36:02.907496",
     "exception": false,
     "start_time": "2024-10-20T21:36:02.893416",
     "status": "completed"
    },
    "tags": []
   },
   "outputs": [],
   "source": [
    "from sklearn.model_selection import GridSearchCV"
   ]
  },
  {
   "cell_type": "code",
   "execution_count": 13,
   "id": "8a27fbba",
   "metadata": {
    "execution": {
     "iopub.execute_input": "2024-10-20T21:36:02.921336Z",
     "iopub.status.busy": "2024-10-20T21:36:02.920588Z",
     "iopub.status.idle": "2024-10-20T21:36:02.925678Z",
     "shell.execute_reply": "2024-10-20T21:36:02.924686Z"
    },
    "papermill": {
     "duration": 0.014301,
     "end_time": "2024-10-20T21:36:02.927721",
     "exception": false,
     "start_time": "2024-10-20T21:36:02.913420",
     "status": "completed"
    },
    "tags": []
   },
   "outputs": [],
   "source": [
    "grid_search = GridSearchCV(rf, \n",
    "                           param_grid, \n",
    "                           cv = 2,\n",
    "                           scoring = 'neg_mean_absolute_percentage_error',\n",
    "                           n_jobs = -1\n",
    ")"
   ]
  },
  {
   "cell_type": "code",
   "execution_count": 14,
   "id": "4dda3c06",
   "metadata": {
    "execution": {
     "iopub.execute_input": "2024-10-20T21:36:02.941903Z",
     "iopub.status.busy": "2024-10-20T21:36:02.940838Z",
     "iopub.status.idle": "2024-10-20T21:37:38.932719Z",
     "shell.execute_reply": "2024-10-20T21:37:38.931524Z"
    },
    "papermill": {
     "duration": 96.007955,
     "end_time": "2024-10-20T21:37:38.941643",
     "exception": false,
     "start_time": "2024-10-20T21:36:02.933688",
     "status": "completed"
    },
    "tags": []
   },
   "outputs": [
    {
     "data": {
      "text/html": [
       "<style>#sk-container-id-1 {color: black;background-color: white;}#sk-container-id-1 pre{padding: 0;}#sk-container-id-1 div.sk-toggleable {background-color: white;}#sk-container-id-1 label.sk-toggleable__label {cursor: pointer;display: block;width: 100%;margin-bottom: 0;padding: 0.3em;box-sizing: border-box;text-align: center;}#sk-container-id-1 label.sk-toggleable__label-arrow:before {content: \"▸\";float: left;margin-right: 0.25em;color: #696969;}#sk-container-id-1 label.sk-toggleable__label-arrow:hover:before {color: black;}#sk-container-id-1 div.sk-estimator:hover label.sk-toggleable__label-arrow:before {color: black;}#sk-container-id-1 div.sk-toggleable__content {max-height: 0;max-width: 0;overflow: hidden;text-align: left;background-color: #f0f8ff;}#sk-container-id-1 div.sk-toggleable__content pre {margin: 0.2em;color: black;border-radius: 0.25em;background-color: #f0f8ff;}#sk-container-id-1 input.sk-toggleable__control:checked~div.sk-toggleable__content {max-height: 200px;max-width: 100%;overflow: auto;}#sk-container-id-1 input.sk-toggleable__control:checked~label.sk-toggleable__label-arrow:before {content: \"▾\";}#sk-container-id-1 div.sk-estimator input.sk-toggleable__control:checked~label.sk-toggleable__label {background-color: #d4ebff;}#sk-container-id-1 div.sk-label input.sk-toggleable__control:checked~label.sk-toggleable__label {background-color: #d4ebff;}#sk-container-id-1 input.sk-hidden--visually {border: 0;clip: rect(1px 1px 1px 1px);clip: rect(1px, 1px, 1px, 1px);height: 1px;margin: -1px;overflow: hidden;padding: 0;position: absolute;width: 1px;}#sk-container-id-1 div.sk-estimator {font-family: monospace;background-color: #f0f8ff;border: 1px dotted black;border-radius: 0.25em;box-sizing: border-box;margin-bottom: 0.5em;}#sk-container-id-1 div.sk-estimator:hover {background-color: #d4ebff;}#sk-container-id-1 div.sk-parallel-item::after {content: \"\";width: 100%;border-bottom: 1px solid gray;flex-grow: 1;}#sk-container-id-1 div.sk-label:hover label.sk-toggleable__label {background-color: #d4ebff;}#sk-container-id-1 div.sk-serial::before {content: \"\";position: absolute;border-left: 1px solid gray;box-sizing: border-box;top: 0;bottom: 0;left: 50%;z-index: 0;}#sk-container-id-1 div.sk-serial {display: flex;flex-direction: column;align-items: center;background-color: white;padding-right: 0.2em;padding-left: 0.2em;position: relative;}#sk-container-id-1 div.sk-item {position: relative;z-index: 1;}#sk-container-id-1 div.sk-parallel {display: flex;align-items: stretch;justify-content: center;background-color: white;position: relative;}#sk-container-id-1 div.sk-item::before, #sk-container-id-1 div.sk-parallel-item::before {content: \"\";position: absolute;border-left: 1px solid gray;box-sizing: border-box;top: 0;bottom: 0;left: 50%;z-index: -1;}#sk-container-id-1 div.sk-parallel-item {display: flex;flex-direction: column;z-index: 1;position: relative;background-color: white;}#sk-container-id-1 div.sk-parallel-item:first-child::after {align-self: flex-end;width: 50%;}#sk-container-id-1 div.sk-parallel-item:last-child::after {align-self: flex-start;width: 50%;}#sk-container-id-1 div.sk-parallel-item:only-child::after {width: 0;}#sk-container-id-1 div.sk-dashed-wrapped {border: 1px dashed gray;margin: 0 0.4em 0.5em 0.4em;box-sizing: border-box;padding-bottom: 0.4em;background-color: white;}#sk-container-id-1 div.sk-label label {font-family: monospace;font-weight: bold;display: inline-block;line-height: 1.2em;}#sk-container-id-1 div.sk-label-container {text-align: center;}#sk-container-id-1 div.sk-container {/* jupyter's `normalize.less` sets `[hidden] { display: none; }` but bootstrap.min.css set `[hidden] { display: none !important; }` so we also need the `!important` here to be able to override the default hidden behavior on the sphinx rendered scikit-learn.org. See: https://github.com/scikit-learn/scikit-learn/issues/21755 */display: inline-block !important;position: relative;}#sk-container-id-1 div.sk-text-repr-fallback {display: none;}</style><div id=\"sk-container-id-1\" class=\"sk-top-container\"><div class=\"sk-text-repr-fallback\"><pre>GridSearchCV(cv=2, estimator=RandomForestRegressor(), n_jobs=-1,\n",
       "             param_grid=[{&#x27;max_depth&#x27;: [10, 20, 30],\n",
       "                          &#x27;min_samples_leaf&#x27;: [1, 2, 4],\n",
       "                          &#x27;min_samples_split&#x27;: [5, 10, 15],\n",
       "                          &#x27;n_estimators&#x27;: [500, 1000]}],\n",
       "             scoring=&#x27;neg_mean_absolute_percentage_error&#x27;)</pre><b>In a Jupyter environment, please rerun this cell to show the HTML representation or trust the notebook. <br />On GitHub, the HTML representation is unable to render, please try loading this page with nbviewer.org.</b></div><div class=\"sk-container\" hidden><div class=\"sk-item sk-dashed-wrapped\"><div class=\"sk-label-container\"><div class=\"sk-label sk-toggleable\"><input class=\"sk-toggleable__control sk-hidden--visually\" id=\"sk-estimator-id-1\" type=\"checkbox\" ><label for=\"sk-estimator-id-1\" class=\"sk-toggleable__label sk-toggleable__label-arrow\">GridSearchCV</label><div class=\"sk-toggleable__content\"><pre>GridSearchCV(cv=2, estimator=RandomForestRegressor(), n_jobs=-1,\n",
       "             param_grid=[{&#x27;max_depth&#x27;: [10, 20, 30],\n",
       "                          &#x27;min_samples_leaf&#x27;: [1, 2, 4],\n",
       "                          &#x27;min_samples_split&#x27;: [5, 10, 15],\n",
       "                          &#x27;n_estimators&#x27;: [500, 1000]}],\n",
       "             scoring=&#x27;neg_mean_absolute_percentage_error&#x27;)</pre></div></div></div><div class=\"sk-parallel\"><div class=\"sk-parallel-item\"><div class=\"sk-item\"><div class=\"sk-label-container\"><div class=\"sk-label sk-toggleable\"><input class=\"sk-toggleable__control sk-hidden--visually\" id=\"sk-estimator-id-2\" type=\"checkbox\" ><label for=\"sk-estimator-id-2\" class=\"sk-toggleable__label sk-toggleable__label-arrow\">estimator: RandomForestRegressor</label><div class=\"sk-toggleable__content\"><pre>RandomForestRegressor()</pre></div></div></div><div class=\"sk-serial\"><div class=\"sk-item\"><div class=\"sk-estimator sk-toggleable\"><input class=\"sk-toggleable__control sk-hidden--visually\" id=\"sk-estimator-id-3\" type=\"checkbox\" ><label for=\"sk-estimator-id-3\" class=\"sk-toggleable__label sk-toggleable__label-arrow\">RandomForestRegressor</label><div class=\"sk-toggleable__content\"><pre>RandomForestRegressor()</pre></div></div></div></div></div></div></div></div></div></div>"
      ],
      "text/plain": [
       "GridSearchCV(cv=2, estimator=RandomForestRegressor(), n_jobs=-1,\n",
       "             param_grid=[{'max_depth': [10, 20, 30],\n",
       "                          'min_samples_leaf': [1, 2, 4],\n",
       "                          'min_samples_split': [5, 10, 15],\n",
       "                          'n_estimators': [500, 1000]}],\n",
       "             scoring='neg_mean_absolute_percentage_error')"
      ]
     },
     "execution_count": 14,
     "metadata": {},
     "output_type": "execute_result"
    }
   ],
   "source": [
    "grid_search.fit(X_train, y_train)"
   ]
  },
  {
   "cell_type": "code",
   "execution_count": 15,
   "id": "3e08d6c8",
   "metadata": {
    "execution": {
     "iopub.execute_input": "2024-10-20T21:37:38.955828Z",
     "iopub.status.busy": "2024-10-20T21:37:38.955431Z",
     "iopub.status.idle": "2024-10-20T21:37:38.962909Z",
     "shell.execute_reply": "2024-10-20T21:37:38.961850Z"
    },
    "papermill": {
     "duration": 0.017265,
     "end_time": "2024-10-20T21:37:38.965036",
     "exception": false,
     "start_time": "2024-10-20T21:37:38.947771",
     "status": "completed"
    },
    "tags": []
   },
   "outputs": [
    {
     "data": {
      "text/plain": [
       "0.9320539551208311"
      ]
     },
     "execution_count": 15,
     "metadata": {},
     "output_type": "execute_result"
    }
   ],
   "source": [
    "grid_search.best_score_ * -1"
   ]
  },
  {
   "cell_type": "code",
   "execution_count": 16,
   "id": "4ac15b6e",
   "metadata": {
    "execution": {
     "iopub.execute_input": "2024-10-20T21:37:38.979714Z",
     "iopub.status.busy": "2024-10-20T21:37:38.978773Z",
     "iopub.status.idle": "2024-10-20T21:37:38.985397Z",
     "shell.execute_reply": "2024-10-20T21:37:38.984413Z"
    },
    "papermill": {
     "duration": 0.016126,
     "end_time": "2024-10-20T21:37:38.987507",
     "exception": false,
     "start_time": "2024-10-20T21:37:38.971381",
     "status": "completed"
    },
    "tags": []
   },
   "outputs": [
    {
     "data": {
      "text/plain": [
       "{'max_depth': 10,\n",
       " 'min_samples_leaf': 1,\n",
       " 'min_samples_split': 15,\n",
       " 'n_estimators': 500}"
      ]
     },
     "execution_count": 16,
     "metadata": {},
     "output_type": "execute_result"
    }
   ],
   "source": [
    "grid_search.best_params_"
   ]
  }
 ],
 "metadata": {
  "kaggle": {
   "accelerator": "none",
   "dataSources": [
    {
     "datasetId": 5744880,
     "sourceId": 9451387,
     "sourceType": "datasetVersion"
    }
   ],
   "dockerImageVersionId": 30786,
   "isGpuEnabled": false,
   "isInternetEnabled": false,
   "language": "python",
   "sourceType": "notebook"
  },
  "kernelspec": {
   "display_name": "Python 3",
   "language": "python",
   "name": "python3"
  },
  "language_info": {
   "codemirror_mode": {
    "name": "ipython",
    "version": 3
   },
   "file_extension": ".py",
   "mimetype": "text/x-python",
   "name": "python",
   "nbconvert_exporter": "python",
   "pygments_lexer": "ipython3",
   "version": "3.10.14"
  },
  "papermill": {
   "default_parameters": {},
   "duration": 104.967488,
   "end_time": "2024-10-20T21:37:41.616140",
   "environment_variables": {},
   "exception": null,
   "input_path": "__notebook__.ipynb",
   "output_path": "__notebook__.ipynb",
   "parameters": {},
   "start_time": "2024-10-20T21:35:56.648652",
   "version": "2.6.0"
  }
 },
 "nbformat": 4,
 "nbformat_minor": 5
}
